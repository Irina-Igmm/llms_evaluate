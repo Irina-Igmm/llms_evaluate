{
 "cells": [
  {
   "cell_type": "code",
   "execution_count": 19,
   "metadata": {},
   "outputs": [],
   "source": [
    "from langchain.embeddings import OpenAIEmbeddings\n",
    "from langchain.vectorstores import Chroma\n",
    "from langchain.text_splitter import CharacterTextSplitter\n",
    "from langchain.llms import OpenAI\n",
    "from langchain.chat_models import ChatOpenAI\n",
    "from langchain.chains import RetrievalQA\n",
    "from langchain.document_loaders import TextLoader\n",
    "import os\n",
    "\n",
    "from dotenv import load_dotenv\n",
    "\n",
    "load_dotenv()\n",
    "\n",
    "# Run a quick validation that we have an entry for the OPEN_API_KEY within environment variables\n",
    "\n",
    "assert \"OPENAI_API_KEY\" in os.environ, \"OPENAI_API_KEY environment variable must be set\""
   ]
  },
  {
   "cell_type": "code",
   "execution_count": 20,
   "metadata": {},
   "outputs": [],
   "source": [
    "# Load the document\n",
    "loader = TextLoader(\"./inputs/knowledge_base.txt\")\n",
    "documents = loader.load()\n",
    "# Split the documents into chunks\n",
    "text_splitter = CharacterTextSplitter(chunk_size=1000, chunk_overlap=0)\n",
    "texts = text_splitter.split_documents(documents)\n",
    "# Create embeddings\n",
    "embeddings = OpenAIEmbeddings()\n",
    "# Create a vector store\n",
    "vectorstore = Chroma.from_documents(texts, embeddings)"
   ]
  },
  {
   "cell_type": "code",
   "execution_count": 21,
   "metadata": {},
   "outputs": [],
   "source": [
    "llm = ChatOpenAI(model=\"gpt-3.5-turbo\", temperature=0)\n",
    "qa = RetrievalQA.from_chain_type(llm=llm, chain_type=\"stuff\", retriever=vectorstore.as_retriever())"
   ]
  },
  {
   "cell_type": "code",
   "execution_count": 23,
   "metadata": {},
   "outputs": [],
   "source": [
    "from langchain.agents import Tool\n",
    "from langchain.tools import DuckDuckGoSearchRun\n",
    "from langchain.tools import BaseTool\n",
    "from langchain.agents import initialize_agent\n",
    "from langchain.agents import AgentType\n",
    "# Define a calculator tool\n",
    "class CalculatorTool(BaseTool):\n",
    "    name = \"Calculator\"\n",
    "    description = \"Useful for when you need to answer questions about math\"\n",
    "    def _run(self, query: str) :\n",
    "        try:\n",
    "            return str(eval(query))\n",
    "        except:\n",
    "            return \"I couldn't calculate that. Please make sure your input is a valid mathematical expression.\""
   ]
  },
  {
   "cell_type": "code",
   "execution_count": 27,
   "metadata": {},
   "outputs": [],
   "source": [
    "# Create tool instances\n",
    "search = DuckDuckGoSearchRun()\n",
    "calculator = CalculatorTool()\n",
    "# Define the tools\n",
    "tools = [Tool(name=\"Search\",func=search.run,description=\"Useful for when you need to answer questions about current events\"),\n",
    "Tool(name=\"RAG-QA\",func=qa.run,description=\"Useful for when you need to answer questions about AI and machine learning\"),\n",
    "Tool(name=\"Calculator\",func=calculator._run,description=\"Useful for when you need to perform mathematical calculations\")\n",
    "]\n",
    "# Initialize the agent\n",
    "agent = initialize_agent(tools, llm, agent=AgentType.ZERO_SHOT_REACT_DESCRIPTION, verbose=True\n",
    ")"
   ]
  },
  {
   "cell_type": "code",
   "execution_count": 28,
   "metadata": {},
   "outputs": [
    {
     "name": "stdout",
     "output_type": "stream",
     "text": [
      "\n",
      "\n",
      "\u001b[1m> Entering new AgentExecutor chain...\u001b[0m\n",
      "\u001b[32;1m\u001b[1;3mI should use RAG-QA to answer the first part of the question about the difference between supervised and unsupervised learning. For the second part, I can use the calculator to find 15% of 80.\n",
      "Action: RAG-QA\n",
      "Action Input: Difference between supervised and unsupervised learning\u001b[0m\n",
      "Observation: \u001b[33;1m\u001b[1;3mSupervised learning involves training a model on labeled data (input-output pairs) with the goal of predicting labels for new input data. Examples include image classification where each image is labeled with the correct class (dog, cat, etc.).\n",
      "\n",
      "Unsupervised learning, on the other hand, involves training a model on unlabeled data to discover hidden patterns or groupings in the data. An example is clustering where the algorithm groups data into clusters without predefined labels.\u001b[0m\n",
      "Thought:\u001b[32;1m\u001b[1;3mNow, I will use the calculator to find 15% of 80.\n",
      "Action: Calculator\n",
      "Action Input: 15% of 80\u001b[0m\n",
      "Observation: \u001b[38;5;200m\u001b[1;3mI couldn't calculate that. Please make sure your input is a valid mathematical expression.\u001b[0m\n",
      "Thought:\u001b[32;1m\u001b[1;3mI need to input the correct mathematical expression for finding 15% of 80.\n",
      "Action: Calculator\n",
      "Action Input: 0.15 * 80\u001b[0m\n",
      "Observation: \u001b[38;5;200m\u001b[1;3m12.0\u001b[0m\n",
      "Thought:\u001b[32;1m\u001b[1;3mI now know the final answer.\n",
      "Final Answer: The difference between supervised and unsupervised learning is that supervised learning uses labeled data to predict labels for new data, while unsupervised learning discovers hidden patterns in unlabeled data. 15% of 80 is 12.\u001b[0m\n",
      "\n",
      "\u001b[1m> Finished chain.\u001b[0m\n",
      "The difference between supervised and unsupervised learning is that supervised learning uses labeled data to predict labels for new data, while unsupervised learning discovers hidden patterns in unlabeled data. 15% of 80 is 12.\n"
     ]
    }
   ],
   "source": [
    "\n",
    "result = agent.run(\"Quelle est la différence entre l'apprentissage supervisé et non supervisé ? Et que représente 15 % de 80 ?\")\n",
    "print(result)"
   ]
  },
  {
   "cell_type": "code",
   "execution_count": 29,
   "metadata": {},
   "outputs": [
    {
     "name": "stdout",
     "output_type": "stream",
     "text": [
      "\n",
      "\n",
      "\u001b[1m> Entering new AgentExecutor chain...\u001b[0m\n",
      "\u001b[32;1m\u001b[1;3mI should use the Search tool to find out the current event.\n",
      "Action: Search\n",
      "Action Input: Current events\u001b[0m\n",
      "Observation: \u001b[36;1m\u001b[1;3mLive news, investigations, opinion, photos and video by the journalists of The New York Times from more than 150 countries around the world. Subscribe for coverage of U.S. and international news ... NPR news, audio, and podcasts. Coverage of breaking stories, national and world news, politics, business, science, technology, and extended coverage of major national and world events. NPR coverage of national news, U.S. politics, elections, business, arts, culture, health and science, and technology. Subscribe to the NPR Nation RSS feed. Reuters.com is your online source for the latest world news stories and current events, ensuring our readers up to date with any breaking news developments Reuters.com is your online source for the latest US news stories and current events, ensuring our readers up to date with any breaking news developments\u001b[0m\n",
      "Thought:\u001b[32;1m\u001b[1;3mThe current event is a variety of news stories from around the world.\n",
      "Final Answer: The current event is a mix of news stories from various sources.\u001b[0m\n",
      "\n",
      "\u001b[1m> Finished chain.\u001b[0m\n",
      "The current event is a mix of news stories from various sources.\n"
     ]
    }
   ],
   "source": [
    "result = agent.run(\"Quel est l'événement actuel ?\")\n",
    "print(result)"
   ]
  },
  {
   "cell_type": "code",
   "execution_count": null,
   "metadata": {},
   "outputs": [],
   "source": []
  }
 ],
 "metadata": {
  "kernelspec": {
   "display_name": "mlflow_env",
   "language": "python",
   "name": "python3"
  },
  "language_info": {
   "name": "python",
   "version": "3.11.10"
  }
 },
 "nbformat": 4,
 "nbformat_minor": 2
}
